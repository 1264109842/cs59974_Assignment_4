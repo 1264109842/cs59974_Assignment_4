{
 "cells": [
  {
   "cell_type": "code",
   "execution_count": null,
   "id": "b2718ced",
   "metadata": {},
   "outputs": [],
   "source": [
    "<a href=\"https://colab.research.google.com/github/1264109842/cs59974_Assignment_3/blob/main/Assignment_3.ipynb\">\n",
    "  <img src=\"https://colab.research.google.com/assets/colab-badge.svg\" alt=\"Open In Colab\"/>\n",
    "</a>"
   ]
  },
  {
   "cell_type": "code",
   "execution_count": 11,
   "id": "f03d9285",
   "metadata": {},
   "outputs": [],
   "source": [
    "import pandas as pd\n",
    "import numpy as np\n",
    "from sklearn.model_selection import train_test_split\n",
    "from sklearn.linear_model import LinearRegression\n",
    "from sklearn.model_selection import cross_val_score\n",
    "from sklearn import datasets\n",
    "from sklearn import svm"
   ]
  },
  {
   "cell_type": "markdown",
   "id": "363c6aff",
   "metadata": {},
   "source": [
    "# Part 1. Loading the dataset"
   ]
  },
  {
   "cell_type": "code",
   "execution_count": 18,
   "id": "25fa3b5d",
   "metadata": {},
   "outputs": [
    {
     "data": {
      "text/html": [
       "<div>\n",
       "<style scoped>\n",
       "    .dataframe tbody tr th:only-of-type {\n",
       "        vertical-align: middle;\n",
       "    }\n",
       "\n",
       "    .dataframe tbody tr th {\n",
       "        vertical-align: top;\n",
       "    }\n",
       "\n",
       "    .dataframe thead th {\n",
       "        text-align: right;\n",
       "    }\n",
       "</style>\n",
       "<table border=\"1\" class=\"dataframe\">\n",
       "  <thead>\n",
       "    <tr style=\"text-align: right;\">\n",
       "      <th></th>\n",
       "      <th>Temperature °C</th>\n",
       "      <th>Mols KCL</th>\n",
       "      <th>Size nm^3</th>\n",
       "    </tr>\n",
       "  </thead>\n",
       "  <tbody>\n",
       "    <tr>\n",
       "      <th>0</th>\n",
       "      <td>469</td>\n",
       "      <td>647</td>\n",
       "      <td>6.244743e+05</td>\n",
       "    </tr>\n",
       "    <tr>\n",
       "      <th>1</th>\n",
       "      <td>403</td>\n",
       "      <td>694</td>\n",
       "      <td>5.779610e+05</td>\n",
       "    </tr>\n",
       "    <tr>\n",
       "      <th>2</th>\n",
       "      <td>302</td>\n",
       "      <td>975</td>\n",
       "      <td>6.196847e+05</td>\n",
       "    </tr>\n",
       "    <tr>\n",
       "      <th>3</th>\n",
       "      <td>779</td>\n",
       "      <td>916</td>\n",
       "      <td>1.460449e+06</td>\n",
       "    </tr>\n",
       "    <tr>\n",
       "      <th>4</th>\n",
       "      <td>901</td>\n",
       "      <td>18</td>\n",
       "      <td>4.325726e+04</td>\n",
       "    </tr>\n",
       "    <tr>\n",
       "      <th>5</th>\n",
       "      <td>545</td>\n",
       "      <td>637</td>\n",
       "      <td>7.124634e+05</td>\n",
       "    </tr>\n",
       "    <tr>\n",
       "      <th>6</th>\n",
       "      <td>660</td>\n",
       "      <td>519</td>\n",
       "      <td>7.006960e+05</td>\n",
       "    </tr>\n",
       "    <tr>\n",
       "      <th>7</th>\n",
       "      <td>143</td>\n",
       "      <td>869</td>\n",
       "      <td>2.718260e+05</td>\n",
       "    </tr>\n",
       "    <tr>\n",
       "      <th>8</th>\n",
       "      <td>89</td>\n",
       "      <td>461</td>\n",
       "      <td>8.919803e+04</td>\n",
       "    </tr>\n",
       "    <tr>\n",
       "      <th>9</th>\n",
       "      <td>294</td>\n",
       "      <td>776</td>\n",
       "      <td>4.770210e+05</td>\n",
       "    </tr>\n",
       "    <tr>\n",
       "      <th>10</th>\n",
       "      <td>991</td>\n",
       "      <td>117</td>\n",
       "      <td>2.441771e+05</td>\n",
       "    </tr>\n",
       "    <tr>\n",
       "      <th>11</th>\n",
       "      <td>307</td>\n",
       "      <td>781</td>\n",
       "      <td>5.006455e+05</td>\n",
       "    </tr>\n",
       "    <tr>\n",
       "      <th>12</th>\n",
       "      <td>206</td>\n",
       "      <td>70</td>\n",
       "      <td>3.145200e+04</td>\n",
       "    </tr>\n",
       "    <tr>\n",
       "      <th>13</th>\n",
       "      <td>437</td>\n",
       "      <td>599</td>\n",
       "      <td>5.390215e+05</td>\n",
       "    </tr>\n",
       "    <tr>\n",
       "      <th>14</th>\n",
       "      <td>566</td>\n",
       "      <td>75</td>\n",
       "      <td>9.185271e+04</td>\n",
       "    </tr>\n",
       "  </tbody>\n",
       "</table>\n",
       "</div>"
      ],
      "text/plain": [
       "    Temperature °C  Mols KCL     Size nm^3\n",
       "0              469       647  6.244743e+05\n",
       "1              403       694  5.779610e+05\n",
       "2              302       975  6.196847e+05\n",
       "3              779       916  1.460449e+06\n",
       "4              901        18  4.325726e+04\n",
       "5              545       637  7.124634e+05\n",
       "6              660       519  7.006960e+05\n",
       "7              143       869  2.718260e+05\n",
       "8               89       461  8.919803e+04\n",
       "9              294       776  4.770210e+05\n",
       "10             991       117  2.441771e+05\n",
       "11             307       781  5.006455e+05\n",
       "12             206        70  3.145200e+04\n",
       "13             437       599  5.390215e+05\n",
       "14             566        75  9.185271e+04"
      ]
     },
     "execution_count": 18,
     "metadata": {},
     "output_type": "execute_result"
    }
   ],
   "source": [
    "import pandas as pd\n",
    "import numpy as np\n",
    "from sklearn.model_selection import train_test_split\n",
    "from sklearn.linear_model import LinearRegression\n",
    "from sklearn.model_selection import cross_val_score\n",
    "from sklearn import datasets\n",
    "from sklearn import svm# Using pandas load the dataset (load remotely, not locally)\n",
    "# Output the first 15 rows of the data\n",
    "# Display a summary of the table information (number of datapoints, etc.)\n",
    "inputData = pd.read_csv('https://raw.githubusercontent.com/profmcnich/example_notebook/main/science_data_large.csv')\n",
    "inputData[:15]"
   ]
  },
  {
   "cell_type": "markdown",
   "id": "c0f008f8",
   "metadata": {},
   "source": [
    "## Part 2. Splitting the dataset"
   ]
  },
  {
   "cell_type": "code",
   "execution_count": 13,
   "id": "62bd8380",
   "metadata": {},
   "outputs": [
    {
     "data": {
      "text/html": [
       "<div>\n",
       "<style scoped>\n",
       "    .dataframe tbody tr th:only-of-type {\n",
       "        vertical-align: middle;\n",
       "    }\n",
       "\n",
       "    .dataframe tbody tr th {\n",
       "        vertical-align: top;\n",
       "    }\n",
       "\n",
       "    .dataframe thead th {\n",
       "        text-align: right;\n",
       "    }\n",
       "</style>\n",
       "<table border=\"1\" class=\"dataframe\">\n",
       "  <thead>\n",
       "    <tr style=\"text-align: right;\">\n",
       "      <th></th>\n",
       "      <th>Temperature °C</th>\n",
       "      <th>Mols KCL</th>\n",
       "    </tr>\n",
       "  </thead>\n",
       "  <tbody>\n",
       "    <tr>\n",
       "      <th>716</th>\n",
       "      <td>95</td>\n",
       "      <td>499</td>\n",
       "    </tr>\n",
       "    <tr>\n",
       "      <th>351</th>\n",
       "      <td>243</td>\n",
       "      <td>384</td>\n",
       "    </tr>\n",
       "    <tr>\n",
       "      <th>936</th>\n",
       "      <td>47</td>\n",
       "      <td>211</td>\n",
       "    </tr>\n",
       "    <tr>\n",
       "      <th>256</th>\n",
       "      <td>495</td>\n",
       "      <td>497</td>\n",
       "    </tr>\n",
       "    <tr>\n",
       "      <th>635</th>\n",
       "      <td>82</td>\n",
       "      <td>421</td>\n",
       "    </tr>\n",
       "    <tr>\n",
       "      <th>...</th>\n",
       "      <td>...</td>\n",
       "      <td>...</td>\n",
       "    </tr>\n",
       "    <tr>\n",
       "      <th>106</th>\n",
       "      <td>439</td>\n",
       "      <td>40</td>\n",
       "    </tr>\n",
       "    <tr>\n",
       "      <th>270</th>\n",
       "      <td>665</td>\n",
       "      <td>245</td>\n",
       "    </tr>\n",
       "    <tr>\n",
       "      <th>860</th>\n",
       "      <td>471</td>\n",
       "      <td>620</td>\n",
       "    </tr>\n",
       "    <tr>\n",
       "      <th>435</th>\n",
       "      <td>829</td>\n",
       "      <td>259</td>\n",
       "    </tr>\n",
       "    <tr>\n",
       "      <th>102</th>\n",
       "      <td>636</td>\n",
       "      <td>388</td>\n",
       "    </tr>\n",
       "  </tbody>\n",
       "</table>\n",
       "<p>900 rows × 2 columns</p>\n",
       "</div>"
      ],
      "text/plain": [
       "     Temperature °C  Mols KCL\n",
       "716              95       499\n",
       "351             243       384\n",
       "936              47       211\n",
       "256             495       497\n",
       "635              82       421\n",
       "..              ...       ...\n",
       "106             439        40\n",
       "270             665       245\n",
       "860             471       620\n",
       "435             829       259\n",
       "102             636       388\n",
       "\n",
       "[900 rows x 2 columns]"
      ]
     },
     "execution_count": 13,
     "metadata": {},
     "output_type": "execute_result"
    }
   ],
   "source": [
    "# Take the pandas dataset and split it into our features (X) and label (y)\n",
    "\n",
    "# Use sklearn to split the features and labels into a training/test set. (90% train, 10% test)\n",
    "\n",
    "# Save Temperature °C column and Mols KCL column as  features\n",
    "features = inputData[['Temperature °C', 'Mols KCL']]\n",
    "# Save size nm^3 column as labels\n",
    "labels = inputData['Size nm^3']\n",
    "\n",
    "# prefix X contains features, prefix y contains labels\n",
    "# We spilt features and labels into training set and test set.\n",
    "# Training set contains 90% of the whole data set\n",
    "# Test set contains 10% of the whole data set\n",
    "X_train, X_test, y_train, y_test = train_test_split(features, labels, test_size = 0.1, train_size = 0.9, random_state = 42)\n",
    "\n",
    "# output the feature of training set\n",
    "X_train\n"
   ]
  },
  {
   "cell_type": "markdown",
   "id": "3bf42b25",
   "metadata": {},
   "source": [
    "## Part 3. Perform a Linear Regression"
   ]
  },
  {
   "cell_type": "markdown",
   "id": "0a044c22",
   "metadata": {},
   "source": [
    "Report: \n",
    "    The socre means the accuracy of prediction value based upon the trained model."
   ]
  },
  {
   "cell_type": "code",
   "execution_count": 14,
   "id": "20be9195",
   "metadata": {},
   "outputs": [
    {
     "name": "stdout",
     "output_type": "stream",
     "text": [
      "Sample datapoint:  [[500 250]]\n",
      "Prediction value:  [281855.493724]\n",
      "Trained model score:  0.8552472077276095\n",
      "Trained model coefficents:  [ 866.14641337 1032.69506649]\n",
      "Trained model intercept:  -409391.47958340764\n"
     ]
    }
   ],
   "source": [
    "# Use sklearn to train a model on the training set\n",
    "\n",
    "# Convert training set and test set to a numpy array for the farther use\n",
    "X_t = np.array(X_train)\n",
    "Y_t = np.array(y_train)\n",
    "X_te = np.array(X_test)\n",
    "Y_te = np.array(y_test)\n",
    "\n",
    "#Create linera regression use training set\n",
    "reg = LinearRegression().fit(X_t, Y_t)\n",
    "\n",
    "# Create a sample datapoint and predict the output of that sample with the trained model\n",
    "# Create a test data and convert to a numpy arary\n",
    "datapoint = np.array([[500, 250]])\n",
    "print('Sample datapoint: ', datapoint)\n",
    "\n",
    "# Show the predicated value of datapoint\n",
    "print('Prediction value: ' , reg.predict(datapoint))\n",
    "\n",
    "# Report on the score for that model, in your own words (markdown, not code) explain what the score means\n",
    "print('Trained model score: ' , reg.score(X_te, Y_te))\n",
    "\n",
    "# Extract the coefficents and intercept from the model and write an equation for your h(x) using LaTeX\n",
    "print('Trained model coefficents: ' , reg.coef_) # Get the coefficents of linear regression\n",
    "print('Trained model intercept: ' , reg.intercept_) # Get the intercept of linear regression"
   ]
  },
  {
   "cell_type": "markdown",
   "id": "a3362e9c",
   "metadata": {},
   "source": [
    "Equation: $ h(x) = C_0 * X_1 + C_1 * X_2 + B $"
   ]
  },
  {
   "cell_type": "markdown",
   "id": "4f39958e",
   "metadata": {},
   "source": [
    "## Part 4. Use Cross Validation"
   ]
  },
  {
   "cell_type": "markdown",
   "id": "352473c6",
   "metadata": {},
   "source": [
    "Report: 3-fold cross validation output: \n",
    "\n",
    "Scores:  [0.8480502  0.86929579 0.85113859]\n",
    "\n",
    "Average score: 0.856\n",
    "\n",
    "Standard deviation: 0.009\n",
    "\n",
    "\n",
    "5-fold cross validation output:\n",
    "\n",
    "Scores:  [0.86600166 0.81565018 0.84209182 0.85686866 0.85851145]\n",
    "\n",
    "Average score: 0.848\n",
    "\n",
    "Standard deviation: 0.018\n",
    "\n",
    "\n",
    "10-fold cross validation output:\n",
    "\n",
    "Scores:  [0.8931241  0.80805448 0.78530144 0.87866784 0.81657793 0.86311966\n",
    " 0.8212513  0.89081167 0.86978917 0.79447833]\n",
    " \n",
    "Average score: 0.842\n",
    "\n",
    "Standard deviation: 0.039\n",
    "\n",
    "According to the statistic, 3-fold cross validation has the highest average accuracy. cross_val_score function is to evaluate the performance of training model and return K number of scores that have less biased. Thus, the average score and the standard deviation are reliable."
   ]
  },
  {
   "cell_type": "code",
   "execution_count": 15,
   "id": "4bb2eb93",
   "metadata": {},
   "outputs": [
    {
     "name": "stdout",
     "output_type": "stream",
     "text": [
      "Scores:  [0.8931241  0.80805448 0.78530144 0.87866784 0.81657793 0.86311966\n",
      " 0.8212513  0.89081167 0.86978917 0.79447833]\n",
      "Average score: 0.842\n",
      "Standard deviation: 0.039\n"
     ]
    }
   ],
   "source": [
    "# Use the cross_val_score function to repeat your experiment across many shuffles of the data\n",
    "\n",
    "# Use K-Fold cross validation to get the scores of the linear regression\n",
    "scores = cross_val_score(reg, X_te, Y_te, cv = 10)\n",
    "print('Scores: ' , scores) # print the scores\n",
    "print('Average score: %.3f' % scores.mean()) # print the mean of the scores\n",
    "print('Standard deviation: %.3f' % scores.std()) # print the standard deviation of the scores\n",
    "\n",
    "# Report on their finding and their significance"
   ]
  },
  {
   "cell_type": "markdown",
   "id": "68122beb",
   "metadata": {},
   "source": [
    "## Part 5. Using Polynomial Regression"
   ]
  },
  {
   "cell_type": "code",
   "execution_count": 16,
   "id": "2f7187be",
   "metadata": {},
   "outputs": [],
   "source": [
    "from sklearn.preprocessing import PolynomialFeatures\n",
    "import matplotlib.pyplot as plt"
   ]
  },
  {
   "cell_type": "code",
   "execution_count": 17,
   "id": "9056e1e0",
   "metadata": {},
   "outputs": [
    {
     "name": "stdout",
     "output_type": "stream",
     "text": [
      "Data after transformation:  [[1.00e+00 5.00e+02 2.50e+02 2.50e+05 1.25e+05 6.25e+04]]\n",
      "Prediction value of [500, 250]:  [257785.71427713]\n",
      "Prediction score:  1.0\n",
      "Coefficent:  [ 0.00000000e+00  1.20000000e+01 -1.27197088e-07  1.26458843e-11\n",
      "  2.00000000e+00  2.85714287e-02]\n",
      "Intercept:  2.0479375962167978e-05\n"
     ]
    }
   ],
   "source": [
    "# Using the PolynomialFeatures library perform another regression on an augmented dataset of degree 2\n",
    "\n",
    "# Report on the metrics and output the resultant equation as you did in Part 3.\n",
    "\n",
    "# Set degree to 2\n",
    "poly = PolynomialFeatures(degree=2)\n",
    "\n",
    "# Transform the features of training set to polynomial features\n",
    "X_poly = poly.fit_transform(X_t)\n",
    "\n",
    "# Build the polynomial regression\n",
    "polyreg = LinearRegression()\n",
    "polyreg = polyreg.fit(X_poly,Y_t)\n",
    "\n",
    "# Get the predicted value of the sample datapoint\n",
    "PredictVal = polyreg.predict(poly.fit_transform([[500, 250]]))\n",
    "\n",
    "# Get the score of training model on test set\n",
    "Score = polyreg.score(poly.fit_transform(X_te), Y_te)\n",
    "\n",
    "# Get the coefficents\n",
    "Coefficents = polyreg.coef_ \n",
    "\n",
    "# Get the intercept\n",
    "Intercept = polyreg.intercept_\n",
    "\n",
    "\n",
    "print('Data after transformation: ' , poly.fit_transform([[500, 250]])) # print matrix\n",
    "print('Prediction value of [500, 250]: ', PredictVal) # print sample datapoint\n",
    "print('Prediction score: ' , Score) # print the score\n",
    "print('Coefficent: ', Coefficents) # print the coefficents list\n",
    "print('Intercept: ' , Intercept) # print the intercept"
   ]
  },
  {
   "cell_type": "markdown",
   "id": "7aa50394",
   "metadata": {},
   "source": [
    "Equation: $ h(x) = \\sum_{i=0}^5 C_i*X_i $ C is the coefficent, and X is the data matrix after transformation.\n",
    "The score is 1.0 which means the accuracy of the model is 100%"
   ]
  },
  {
   "cell_type": "code",
   "execution_count": null,
   "id": "d26256f2",
   "metadata": {},
   "outputs": [],
   "source": []
  }
 ],
 "metadata": {
  "kernelspec": {
   "display_name": "Python 3 (ipykernel)",
   "language": "python",
   "name": "python3"
  },
  "language_info": {
   "codemirror_mode": {
    "name": "ipython",
    "version": 3
   },
   "file_extension": ".py",
   "mimetype": "text/x-python",
   "name": "python",
   "nbconvert_exporter": "python",
   "pygments_lexer": "ipython3",
   "version": "3.9.7"
  }
 },
 "nbformat": 4,
 "nbformat_minor": 5
}
